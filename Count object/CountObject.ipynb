{
  "nbformat": 4,
  "nbformat_minor": 0,
  "metadata": {
    "colab": {
      "provenance": [],
      "authorship_tag": "ABX9TyMgj+RaAyBrLqJAbV2chlyD",
      "include_colab_link": true
    },
    "kernelspec": {
      "name": "python3",
      "display_name": "Python 3"
    },
    "language_info": {
      "name": "python"
    }
  },
  "cells": [
    {
      "cell_type": "markdown",
      "metadata": {
        "id": "view-in-github",
        "colab_type": "text"
      },
      "source": [
        "<a href=\"https://colab.research.google.com/github/NeZorinEgor/Computer-vision/blob/main/Count%20object/CountObject.ipynb\" target=\"_parent\"><img src=\"https://colab.research.google.com/assets/colab-badge.svg\" alt=\"Open In Colab\"/></a>"
      ]
    },
    {
      "cell_type": "code",
      "source": [
        "import numpy as np\n",
        "import matplotlib.pyplot as plt\n",
        "from scipy.ndimage import binary_dilation, binary_opening, binary_closing\n",
        "from skimage.measure import label\n",
        "\n",
        "img = np.load(\"ps.npy.txt\")\n",
        "img = label(img)\n",
        "\n",
        "type1 = np.array([[0,0,0,0,0,0],\n",
        "                    [0,0,0,0,0,0],\n",
        "                    [1,1,1,1,1,1],\n",
        "                    [1,1,1,1,1,1],\n",
        "                    [1,1,1,1,1,1],\n",
        "                    [1,1,1,1,1,1]])\n",
        "\n",
        "\n",
        "type2 = np.array([[0,0,0,0,0,0],\n",
        "                    [0,0,0,0,0,0],\n",
        "                    [1,1,0,0,1,1],\n",
        "                    [1,1,0,0,1,1],\n",
        "                    [1,1,1,1,1,1],\n",
        "                    [1,1,1,1,1,1]])\n",
        "\n",
        "\n",
        "type3 = np.array([[0,0,0,0,0,0],\n",
        "                    [0,0,0,0,0,0],\n",
        "                    [1,1,1,1,1,1],\n",
        "                    [1,1,1,1,1,1],\n",
        "                    [1,1,0,0,1,1],\n",
        "                    [1,1,0,0,1,1]])\n",
        "\n",
        "\n",
        "type4 = np.array([[0,0,1,1,1,1],\n",
        "                    [0,0,1,1,1,1],\n",
        "                    [0,0,0,0,1,1],\n",
        "                    [0,0,0,0,1,1],\n",
        "                    [0,0,1,1,1,1],\n",
        "                    [0,0,1,1,1,1]])\n",
        "\n",
        "\n",
        "type5 = np.array([[0,0,1,1,1,1],\n",
        "                    [0,0,1,1,1,1],\n",
        "                    [0,0,1,1,0,0],\n",
        "                    [0,0,1,1,0,0],\n",
        "                    [0,0,1,1,1,1],\n",
        "                    [0,0,1,1,1,1]])\n",
        "\n",
        "print(f\"Общее количество объектов на бинарном изображении: {np.max(img)}\")\n",
        "print(f\"Type {1}: {label(binary_opening(img, type1)).max()}\")\n",
        "print(f\"Type {2}: {label(binary_opening(img, type4)).max()}\")\n",
        "print(f\"Type {3}: {label(binary_opening(img, type5)).max()}\")\n",
        "print(f\"Type {4}: {label(binary_opening(img, type2)).max() - label(binary_opening(img, type1)).max()}\")\n",
        "print(f\"Type {5}: {label(binary_opening(img, type3)).max() - label(binary_opening(img, type1)).max()}\")"
      ],
      "metadata": {
        "id": "TmWdDSK7MJmM",
        "colab": {
          "base_uri": "https://localhost:8080/"
        },
        "outputId": "b82fdd3d-6134-4818-f89e-5930d9c0f022"
      },
      "execution_count": 39,
      "outputs": [
        {
          "output_type": "stream",
          "name": "stdout",
          "text": [
            "Общее количество объектов на бинарном изображении: 500\n",
            "Type 1: 92\n",
            "Type 2: 123\n",
            "Type 3: 94\n",
            "Type 4: 95\n",
            "Type 5: 96\n"
          ]
        }
      ]
    }
  ]
}