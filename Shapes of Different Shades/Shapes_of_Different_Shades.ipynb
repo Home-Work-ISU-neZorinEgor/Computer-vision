{
  "nbformat": 4,
  "nbformat_minor": 0,
  "metadata": {
    "colab": {
      "provenance": [],
      "authorship_tag": "ABX9TyNDIZrnLt0GrIBUFU/xyQNM",
      "include_colab_link": true
    },
    "kernelspec": {
      "name": "python3",
      "display_name": "Python 3"
    },
    "language_info": {
      "name": "python"
    }
  },
  "cells": [
    {
      "cell_type": "markdown",
      "metadata": {
        "id": "view-in-github",
        "colab_type": "text"
      },
      "source": [
        "<a href=\"https://colab.research.google.com/github/NeZorinEgor/Computer-vision/blob/main/Shapes%20of%20Different%20Shades/Shapes_of_Different_Shades.ipynb\" target=\"_parent\"><img src=\"https://colab.research.google.com/assets/colab-badge.svg\" alt=\"Open In Colab\"/></a>"
      ]
    },
    {
      "cell_type": "code",
      "source": [
        "import numpy as np\n",
        "from matplotlib import pyplot as plt\n",
        "from skimage.measure import label\n",
        "import cv2\n",
        "\n",
        "def read_image(file_path):\n",
        "    img = cv2.imread(file_path)\n",
        "    if img is None:\n",
        "        print(\"Error: Unable to load the image.\")\n",
        "        exit()\n",
        "    return img\n",
        "\n",
        "def convert_to_gray_and_hsv(image):\n",
        "    im_gray = cv2.cvtColor(image, cv2.COLOR_BGR2GRAY)\n",
        "    hsv_image = cv2.cvtColor(image, cv2.COLOR_BGR2HSV)\n",
        "    return im_gray, hsv_image\n",
        "\n",
        "def threshold_image(image_gray, min_val=128, max_val=192):\n",
        "    th, im_gray_th_otsu = cv2.threshold(image_gray, min_val, max_val, cv2.THRESH_OTSU)\n",
        "    return im_gray_th_otsu\n",
        "\n",
        "def label_image(image_thresh):\n",
        "    labeled = label(image_thresh)\n",
        "    return labeled\n",
        "\n",
        "def count_figures(labeled_image, hsv_image):\n",
        "    results = {}\n",
        "    circles = 0\n",
        "    rects = 0\n",
        "\n",
        "    for i in range(1, np.max(labeled_image) + 1):\n",
        "        wh = np.where(labeled_image == i)\n",
        "        y_min, x_min = wh[0][0], wh[1][0]\n",
        "        y_max, x_max = wh[0][-1], wh[1][-1]\n",
        "\n",
        "        figure_type = 'rect' if (x_max - x_min + 1) * (y_max - y_min + 1) == len(wh[0]) else 'circle'\n",
        "        hue = hsv_image[y_min, x_min, 0]\n",
        "\n",
        "        if hue not in results:\n",
        "            results[hue] = [0, 0]\n",
        "\n",
        "        if figure_type == 'rect':\n",
        "            results[hue][0] += 1\n",
        "            rects += 1\n",
        "        else:\n",
        "            results[hue][1] += 1\n",
        "            circles += 1\n",
        "\n",
        "    return results, rects, circles\n",
        "\n",
        "def main():\n",
        "    file_path = \"balls_and_rects.png\"\n",
        "    img = read_image(file_path)\n",
        "    im_gray, hsv_img = convert_to_gray_and_hsv(img)\n",
        "    im_gray_th_otsu = threshold_image(im_gray)\n",
        "    labeled_img = label_image(im_gray_th_otsu)\n",
        "\n",
        "    results, rects, circles = count_figures(labeled_img, hsv_img)\n",
        "\n",
        "    print(f\"Total figures: {np.max(labeled_img)}\")\n",
        "    print(f\"Total colors: {len(results)}\")\n",
        "    print(f\"Totals rects: {rects}, circles: {circles}\")\n",
        "    print(\"<--------------------------->\")\n",
        "\n",
        "    for result in results:\n",
        "        print(f\"{result}: rects: {results[result][0]}, circles: {results[result][1]}\")\n",
        "\n",
        "if __name__ == \"__main__\":\n",
        "    main()\n"
      ],
      "metadata": {
        "colab": {
          "base_uri": "https://localhost:8080/"
        },
        "id": "8r6x_XKezfeI",
        "outputId": "b0ffd92a-a37b-469b-92ed-dadb9f21d456"
      },
      "execution_count": 6,
      "outputs": [
        {
          "output_type": "stream",
          "name": "stdout",
          "text": [
            "Total figures: 249\n",
            "Total colors: 6\n",
            "Totals rects: 130, circles: 119\n",
            "<--------------------------->\n",
            "10: rects: 22, circles: 17\n",
            "110: rects: 26, circles: 27\n",
            "35: rects: 32, circles: 19\n",
            "150: rects: 11, circles: 22\n",
            "75: rects: 22, circles: 22\n",
            "55: rects: 17, circles: 12\n"
          ]
        }
      ]
    }
  ]
}