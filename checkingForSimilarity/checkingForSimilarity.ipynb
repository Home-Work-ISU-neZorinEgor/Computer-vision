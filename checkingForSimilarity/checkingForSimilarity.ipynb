{
  "nbformat": 4,
  "nbformat_minor": 0,
  "metadata": {
    "colab": {
      "provenance": [],
      "authorship_tag": "ABX9TyNeGp/rD/5iu8EQ7ZRC3T2K",
      "include_colab_link": true
    },
    "kernelspec": {
      "name": "python3",
      "display_name": "Python 3"
    },
    "language_info": {
      "name": "python"
    }
  },
  "cells": [
    {
      "cell_type": "markdown",
      "metadata": {
        "id": "view-in-github",
        "colab_type": "text"
      },
      "source": [
        "<a href=\"https://colab.research.google.com/github/NeZorinEgor/Computer-vision/blob/main/checkingForSimilarity/checkingForSimilarity.ipynb\" target=\"_parent\"><img src=\"https://colab.research.google.com/assets/colab-badge.svg\" alt=\"Open In Colab\"/></a>"
      ]
    },
    {
      "cell_type": "code",
      "execution_count": 7,
      "metadata": {
        "colab": {
          "base_uri": "https://localhost:8080/",
          "height": 452
        },
        "id": "ONq4XzzJh30l",
        "outputId": "b79187dd-a15e-4ade-b416-881faa441815"
      },
      "outputs": [
        {
          "output_type": "display_data",
          "data": {
            "text/plain": [
              "<Figure size 1000x500 with 4 Axes>"
            ],
            "image/png": "[encoded data removed]"
          },
          "metadata": {}
        },
        {
          "output_type": "stream",
          "name": "stdout",
          "text": [
            "figure and figure2 are equivalent\n"
          ]
        }
      ],
      "source": [
        "import numpy as np\n",
        "import matplotlib.pyplot as plt\n",
        "\n",
        "# Определение направлений\n",
        "directions = {\n",
        "    0: (0, 1),    # Движение вправо\n",
        "    1: (-1, 1),   # Движение в правый верхний угол\n",
        "    2: (-1, 0),   # Движение вверх\n",
        "    3: (-1, -1),  # Движение в левый верхний угол\n",
        "    4: (0, -1),   # Движение влево\n",
        "    5: (1, -1),   # Движение в левый нижний угол\n",
        "    6: (1, 0),    # Движение вниз\n",
        "    7: (1, 1)     # Движение в правый нижний угол\n",
        "}\n",
        "\n",
        "# data = np.load('similar.npy')\n",
        "figure = np.zeros((5, 5))\n",
        "figure[1:3, 1:-1] = 1\n",
        "figure2 = figure.T\n",
        "\n",
        "def find_perimeter_transitions(figure2):\n",
        "    perimeter_transitions = []\n",
        "\n",
        "    # Индексы всех единиц на периметре\n",
        "    perimeter_points = np.argwhere(figure2 == 1)\n",
        "\n",
        "    # Если нет точек на периметре, вернем пустой список\n",
        "    if len(perimeter_points) == 0:\n",
        "        return perimeter_transitions\n",
        "\n",
        "    rows, cols = figure2.shape\n",
        "\n",
        "    for point in perimeter_points:\n",
        "        y, x = point\n",
        "        transitions = []\n",
        "\n",
        "        for i in range(8):\n",
        "            dy, dx = directions[i]\n",
        "            ny, nx = y + dy, x + dx\n",
        "\n",
        "            if 0 <= ny < rows and 0 <= nx < cols:\n",
        "                if figure2[y, x] == 1 and figure2[ny, nx] == 0:\n",
        "                    transitions.append(i)\n",
        "\n",
        "        if transitions:\n",
        "            perimeter_transitions.append((point, transitions))\n",
        "\n",
        "    return perimeter_transitions\n",
        "\n",
        "# Найдем цепочку переходов\n",
        "perimeter_transitions = find_perimeter_transitions(figure2)\n",
        "\n",
        "output = np.zeros_like(figure2)\n",
        "\n",
        "for point, transitions in perimeter_transitions:\n",
        "    y, x = point\n",
        "    output[y, x] = 1\n",
        "\n",
        "plt.figure(figsize=(10, 5))\n",
        "plt.subplot(121)\n",
        "plt.title(\"Figure 1\")\n",
        "plt.imshow(output1, cmap='viridis')\n",
        "plt.colorbar()\n",
        "\n",
        "plt.subplot(122)\n",
        "plt.title(\"Figure 2\")\n",
        "plt.imshow(output2, cmap='viridis')\n",
        "plt.colorbar()\n",
        "\n",
        "plt.show()\n",
        "\n",
        "def are_figures_equivalent(figure1, figure2):\n",
        "    # Проверяем, что размерности фигур совпадают\n",
        "    if figure1.shape != figure2.shape:\n",
        "        return False\n",
        "\n",
        "    # Перебираем все возможные повороты figure2 и сравниваем с figure1\n",
        "    for _ in range(4):\n",
        "        if np.array_equal(figure1, figure2):\n",
        "            return True\n",
        "        figure2 = np.rot90(figure2)\n",
        "\n",
        "    return False\n",
        "\n",
        "if are_figures_equivalent(figure, figure2):\n",
        "    print(\"figure and figure2 are equivalent\")\n",
        "else:\n",
        "    print(\"figure and figure2 are not equivalent\")"
      ]
    }
  ]
}